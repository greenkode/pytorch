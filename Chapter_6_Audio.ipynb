{
  "nbformat": 4,
  "nbformat_minor": 0,
  "metadata": {
    "colab": {
      "name": "Chapter 6 - Audio",
      "provenance": [],
      "collapsed_sections": [],
      "authorship_tag": "ABX9TyMJLAKW/y7hBLBrd0W0ZqKD",
      "include_colab_link": true
    },
    "kernelspec": {
      "name": "python3",
      "display_name": "Python 3"
    },
    "accelerator": "GPU"
  },
  "cells": [
    {
      "cell_type": "markdown",
      "metadata": {
        "id": "view-in-github",
        "colab_type": "text"
      },
      "source": [
        "<a href=\"https://colab.research.google.com/github/greenkode/pytorch/blob/master/Chapter_6_Audio.ipynb\" target=\"_parent\"><img src=\"https://colab.research.google.com/assets/colab-badge.svg\" alt=\"Open In Colab\"/></a>"
      ]
    },
    {
      "cell_type": "code",
      "metadata": {
        "id": "VtPwJEBhFsiJ",
        "colab_type": "code",
        "colab": {}
      },
      "source": [
        "import IPython.display as display\n",
        "from torch.utils.data import Dataset"
      ],
      "execution_count": 1,
      "outputs": []
    },
    {
      "cell_type": "code",
      "metadata": {
        "id": "d_k9tQBuFq_Q",
        "colab_type": "code",
        "colab": {}
      },
      "source": [
        "# !git clone https://github.com/karoldvl/ESC-50\n",
        "# !mkdir ESC-50/train ESC-50/test ESC-50/valid\n",
        "\n",
        "# !mv ESC-50/audio/1* ESC-50/train \n",
        "# !mv ESC-50/audio/2* ESC-50/train \n",
        "# !mv ESC-50/audio/3* ESC-50/train \n",
        "# !mv ESC-50/audio/4* ESC-50/valid \n",
        "# !mv ESC-50/audio/5* ESC-50/test\n",
        "# !pip install torchaudio"
      ],
      "execution_count": 2,
      "outputs": []
    },
    {
      "cell_type": "code",
      "metadata": {
        "id": "ERi6cUcaGOGp",
        "colab_type": "code",
        "colab": {}
      },
      "source": [
        "import glob\n",
        "from collections import Counter\n",
        "\n",
        "# esc50_list = [f.split(\"-\")[-1].replace(\".wav\", \"\") \n",
        "#               for f in glob.glob(\"ESC-50/audio/*.wav\")]\n",
        "# Counter(esc50_list)"
      ],
      "execution_count": 3,
      "outputs": []
    },
    {
      "cell_type": "code",
      "metadata": {
        "id": "tGj33_V9IUcI",
        "colab_type": "code",
        "colab": {}
      },
      "source": [
        "from pathlib import Path\n",
        "import torchaudio\n",
        "import torch\n",
        "\n",
        "class ESC50(Dataset):\n",
        "  def __init__(self, path):\n",
        "    # Get directory listing from path\n",
        "    files = Path(path).glob('*.wav')\n",
        "    # Iterate through the listing and create a list of tuples(filename ,label)\n",
        "    self.items = [(f, int(f.name.split(\"-\")[-1].replace(\".wav\", \"\"))) \n",
        "                    for f in files]\n",
        "    self.length = len(self.items)\n",
        "\n",
        "  def __getitem__(self, index):\n",
        "    filename, label = self.items[index]\n",
        "    audio_tensor, sample_rate = torchaudio.load(filename)\n",
        "    return audio_tensor, label\n",
        "\n",
        "  def __len__(self):\n",
        "    return self.length"
      ],
      "execution_count": 4,
      "outputs": []
    },
    {
      "cell_type": "code",
      "metadata": {
        "id": "a6InvbxXL2ad",
        "colab_type": "code",
        "colab": {}
      },
      "source": [
        "bs = 64\n",
        "PATH_TO_ESC50 = Path.cwd() / 'ESC-50'\n",
        "path = 'test.md'\n",
        "\n",
        "train_esc50 = ESC50(PATH_TO_ESC50 / \"train\")\n",
        "valid_esc50 = ESC50(PATH_TO_ESC50 / \"valid\")\n",
        "test_esc50 = ESC50(PATH_TO_ESC50 / \"test\")\n",
        "\n",
        "train_loader = torch.utils.data.DataLoader(train_esc50, batch_size=bs, shuffle=True)\n",
        "valid_loader = torch.utils.data.DataLoader(valid_esc50, batch_size=bs, shuffle=True)\n",
        "test_loader = torch.utils.data.DataLoader(test_esc50, batch_size=bs, shuffle=True)"
      ],
      "execution_count": 5,
      "outputs": []
    },
    {
      "cell_type": "code",
      "metadata": {
        "id": "XQU6MUzscpyb",
        "colab_type": "code",
        "colab": {}
      },
      "source": [
        "def train(model, optimizer, loss_fn, train_loader, val_loader, epochs=20, device=\"cpu\"):\n",
        "    for epoch in range(epochs):\n",
        "        training_loss = 0.0\n",
        "        valid_loss = 0.0\n",
        "        model.train()\n",
        "        for batch in train_loader:\n",
        "            optimizer.zero_grad()\n",
        "            inputs, targets = batch\n",
        "            inputs = inputs.to(device)\n",
        "            targets = targets.to(device)\n",
        "            output = model(inputs)\n",
        "            loss = loss_fn(output, targets)\n",
        "            loss.backward()\n",
        "            optimizer.step()\n",
        "            training_loss += loss.data.item() * inputs.size(0)\n",
        "        training_loss /= len(train_loader.dataset)\n",
        "        \n",
        "        model.eval()\n",
        "        num_correct = 0 \n",
        "        num_examples = 0\n",
        "        for batch in val_loader:\n",
        "            inputs, targets = batch\n",
        "            inputs = inputs.to(device)\n",
        "            output = model(inputs)\n",
        "            targets = targets.to(device)\n",
        "            loss = loss_fn(output,targets) \n",
        "            valid_loss += loss.data.item() * inputs.size(0)\n",
        "            correct = torch.eq(torch.max(F.softmax(output), dim=1)[1], targets).view(-1)\n",
        "            num_correct += torch.sum(correct).item()\n",
        "            num_examples += correct.shape[0]\n",
        "        valid_loss /= len(val_loader.dataset)\n",
        "\n",
        "        print('Epoch: {}, Training Loss: {:.2f}, Validation Loss: {:.2f}, accuracy = {:.2f}'.format(epoch, training_loss,\n",
        "        valid_loss, num_correct / num_examples))"
      ],
      "execution_count": 6,
      "outputs": []
    },
    {
      "cell_type": "code",
      "metadata": {
        "id": "MX_hv2mgV6iK",
        "colab_type": "code",
        "colab": {}
      },
      "source": [
        "def find_lr(model, loss_fn, optimizer, train_loader, init_value=1e-8, final_value=10.0, device=\"cpu\"):\n",
        "    number_in_epoch = len(train_loader) - 1\n",
        "    update_step = (final_value / init_value) ** (1 / number_in_epoch)\n",
        "    lr = init_value\n",
        "    optimizer.param_groups[0][\"lr\"] = lr\n",
        "    best_loss = 0.0\n",
        "    batch_num = 0\n",
        "    losses = []\n",
        "    log_lrs = []\n",
        "    for data in train_loader:\n",
        "        batch_num += 1\n",
        "        inputs, targets = data\n",
        "        inputs = inputs.to(device)\n",
        "        targets = targets.to(device)\n",
        "        optimizer.zero_grad()\n",
        "        outputs = model(inputs)\n",
        "        loss = loss_fn(outputs, targets)\n",
        "\n",
        "        # Crash out if loss explodes\n",
        "\n",
        "        if batch_num > 1 and loss > 4 * best_loss:\n",
        "            if(len(log_lrs) > 20):\n",
        "                return log_lrs[10:-5], losses[10:-5]\n",
        "            else:\n",
        "                return log_lrs, losses\n",
        "\n",
        "        # Record the best loss\n",
        "\n",
        "        if loss < best_loss or batch_num == 1:\n",
        "            best_loss = loss\n",
        "\n",
        "        # Store the values\n",
        "        losses.append(loss.item())\n",
        "        log_lrs.append((lr))\n",
        "\n",
        "        # Do the backward pass and optimize\n",
        "\n",
        "        loss.backward()\n",
        "        optimizer.step()\n",
        "\n",
        "        # Update the lr for the next step and store\n",
        "\n",
        "        lr *= update_step\n",
        "        optimizer.param_groups[0][\"lr\"] = lr\n",
        "    if(len(log_lrs) > 20):\n",
        "        return log_lrs[10:-5], losses[10:-5]\n",
        "    else:\n",
        "        return log_lrs, losses"
      ],
      "execution_count": 7,
      "outputs": []
    },
    {
      "cell_type": "code",
      "metadata": {
        "id": "5bOBL-PfTAwq",
        "colab_type": "code",
        "colab": {}
      },
      "source": [
        "import torch.nn as nn\n",
        "import torch.nn.functional as F\n",
        "\n",
        "class AudioNet(nn.Module):\n",
        "  def __init__(self):\n",
        "    super(AudioNet, self).__init__()\n",
        "    self.conv1 = nn.Conv1d(100, 128, kernel_size=5, stride=4)\n",
        "    self.bn1 = nn.BatchNorm1d(128)\n",
        "    self.pool1 = nn.MaxPool1d(4)\n",
        "    self.conv2 = nn.Conv1d(128, 128, 3)\n",
        "    self.bn2 = nn.BatchNorm1d(128)\n",
        "    self.pool2 = nn.MaxPool1d(4)\n",
        "    self.conv3 = nn.Conv1d(128, 256, 3)\n",
        "    self.bn3 = nn.BatchNorm1d(256)\n",
        "    self.pool3 = nn.MaxPool1d(4)\n",
        "    self.conv4 = nn.Conv1d(256, 512, 3)\n",
        "    self.bn4 = nn.BatchNorm1d(512)\n",
        "    self.pool4 = nn.MaxPool1d(4)\n",
        "    self.fc1 = nn.Linear(512, 50)\n",
        "  \n",
        "  def forward(self, x):\n",
        "    x = x.unsqueeze(-1).view(-1, 100, 2205)\n",
        "    x = self.conv1(x)\n",
        "    x = F.relu(self.bn1(x))\n",
        "    x = self.pool1(x)\n",
        "    x = self.conv2(x)\n",
        "    x = F.relu(self.bn2(x))\n",
        "    x = self.pool2(x)\n",
        "    x = self.conv3(x)\n",
        "    x = F.relu(self.bn3(x))\n",
        "    x = self.pool3(x)\n",
        "    x = self.conv4(x)\n",
        "    x = F.relu(self.bn4(x))\n",
        "    x = self.pool4(x)\n",
        "    x = x.squeeze(-1)\n",
        "    x = self.fc1(x)\n",
        "    return x"
      ],
      "execution_count": 8,
      "outputs": []
    },
    {
      "cell_type": "code",
      "metadata": {
        "id": "4ytFZRNjU1F3",
        "colab_type": "code",
        "colab": {
          "base_uri": "https://localhost:8080/",
          "height": 278
        },
        "outputId": "16bd230b-535e-45e4-9437-c5a2c6682fd9"
      },
      "source": [
        "device = \"cuda\"\n",
        "audio_net = AudioNet()\n",
        "audio_net.to(device)"
      ],
      "execution_count": 9,
      "outputs": [
        {
          "output_type": "execute_result",
          "data": {
            "text/plain": [
              "AudioNet(\n",
              "  (conv1): Conv1d(100, 128, kernel_size=(5,), stride=(4,))\n",
              "  (bn1): BatchNorm1d(128, eps=1e-05, momentum=0.1, affine=True, track_running_stats=True)\n",
              "  (pool1): MaxPool1d(kernel_size=4, stride=4, padding=0, dilation=1, ceil_mode=False)\n",
              "  (conv2): Conv1d(128, 128, kernel_size=(3,), stride=(1,))\n",
              "  (bn2): BatchNorm1d(128, eps=1e-05, momentum=0.1, affine=True, track_running_stats=True)\n",
              "  (pool2): MaxPool1d(kernel_size=4, stride=4, padding=0, dilation=1, ceil_mode=False)\n",
              "  (conv3): Conv1d(128, 256, kernel_size=(3,), stride=(1,))\n",
              "  (bn3): BatchNorm1d(256, eps=1e-05, momentum=0.1, affine=True, track_running_stats=True)\n",
              "  (pool3): MaxPool1d(kernel_size=4, stride=4, padding=0, dilation=1, ceil_mode=False)\n",
              "  (conv4): Conv1d(256, 512, kernel_size=(3,), stride=(1,))\n",
              "  (bn4): BatchNorm1d(512, eps=1e-05, momentum=0.1, affine=True, track_running_stats=True)\n",
              "  (pool4): MaxPool1d(kernel_size=4, stride=4, padding=0, dilation=1, ceil_mode=False)\n",
              "  (fc1): Linear(in_features=512, out_features=50, bias=True)\n",
              ")"
            ]
          },
          "metadata": {
            "tags": []
          },
          "execution_count": 9
        }
      ]
    },
    {
      "cell_type": "code",
      "metadata": {
        "id": "pn6r0F1YVIWB",
        "colab_type": "code",
        "colab": {
          "base_uri": "https://localhost:8080/",
          "height": 282
        },
        "outputId": "a8e9ecb7-246b-4939-f3fd-4e6eb109767e"
      },
      "source": [
        "import torch\n",
        "import torch.optim as optim\n",
        "import matplotlib.pyplot as plt\n",
        "\n",
        "torch.save(audio_net.state_dict(), \"audionet.pth\")\n",
        "optimizer = optim.Adam(audio_net.parameters(), lr=0.001)\n",
        "logs, losses = find_lr(audio_net, nn.CrossEntropyLoss(), optimizer, train_loader, device=device)\n",
        "plt.plot(logs, losses)"
      ],
      "execution_count": 10,
      "outputs": [
        {
          "output_type": "execute_result",
          "data": {
            "text/plain": [
              "[<matplotlib.lines.Line2D at 0x7faa08ec9d30>]"
            ]
          },
          "metadata": {
            "tags": []
          },
          "execution_count": 10
        },
        {
          "output_type": "display_data",
          "data": {
            "image/png": "[encoded data removed]",
            "text/plain": [
              "<Figure size 432x288 with 1 Axes>"
            ]
          },
          "metadata": {
            "tags": [],
            "needs_background": "light"
          }
        }
      ]
    },
    {
      "cell_type": "code",
      "metadata": {
        "id": "PPKhCBXdWBa_",
        "colab_type": "code",
        "colab": {
          "base_uri": "https://localhost:8080/",
          "height": 402
        },
        "outputId": "c4c6fa7c-1c16-47fc-f24f-9a5d402a9d45"
      },
      "source": [
        "lr = 1e-5\n",
        "audio_net.load_state_dict(torch.load(\"audionet.pth\"))\n",
        "optimizer = optim.Adam(audio_net.parameters(), lr=lr)\n",
        "\n",
        "train(audio_net, optimizer, torch.nn.CrossEntropyLoss(), train_loader, valid_loader, epochs=20, device=device)"
      ],
      "execution_count": 11,
      "outputs": [
        {
          "output_type": "stream",
          "text": [
            "/usr/local/lib/python3.6/dist-packages/ipykernel_launcher.py:28: UserWarning: Implicit dimension choice for softmax has been deprecated. Change the call to include dim=X as an argument.\n"
          ],
          "name": "stderr"
        },
        {
          "output_type": "stream",
          "text": [
            "Epoch: 0, Training Loss: 4.09, Validation Loss: 3.92, accuracy = 0.02\n",
            "Epoch: 1, Training Loss: 3.94, Validation Loss: 3.90, accuracy = 0.01\n",
            "Epoch: 2, Training Loss: 3.84, Validation Loss: 3.86, accuracy = 0.03\n",
            "Epoch: 3, Training Loss: 3.77, Validation Loss: 3.84, accuracy = 0.03\n",
            "Epoch: 4, Training Loss: 3.71, Validation Loss: 3.82, accuracy = 0.04\n",
            "Epoch: 5, Training Loss: 3.66, Validation Loss: 3.80, accuracy = 0.04\n",
            "Epoch: 6, Training Loss: 3.61, Validation Loss: 3.78, accuracy = 0.04\n",
            "Epoch: 7, Training Loss: 3.57, Validation Loss: 3.77, accuracy = 0.05\n",
            "Epoch: 8, Training Loss: 3.52, Validation Loss: 3.76, accuracy = 0.05\n",
            "Epoch: 9, Training Loss: 3.49, Validation Loss: 3.75, accuracy = 0.05\n",
            "Epoch: 10, Training Loss: 3.46, Validation Loss: 3.74, accuracy = 0.05\n",
            "Epoch: 11, Training Loss: 3.43, Validation Loss: 3.73, accuracy = 0.05\n",
            "Epoch: 12, Training Loss: 3.39, Validation Loss: 3.72, accuracy = 0.05\n",
            "Epoch: 13, Training Loss: 3.35, Validation Loss: 3.72, accuracy = 0.05\n",
            "Epoch: 14, Training Loss: 3.32, Validation Loss: 3.71, accuracy = 0.05\n",
            "Epoch: 15, Training Loss: 3.29, Validation Loss: 3.70, accuracy = 0.06\n",
            "Epoch: 16, Training Loss: 3.26, Validation Loss: 3.70, accuracy = 0.05\n",
            "Epoch: 17, Training Loss: 3.22, Validation Loss: 3.69, accuracy = 0.05\n",
            "Epoch: 18, Training Loss: 3.20, Validation Loss: 3.69, accuracy = 0.06\n",
            "Epoch: 19, Training Loss: 3.16, Validation Loss: 3.68, accuracy = 0.07\n"
          ],
          "name": "stdout"
        }
      ]
    },
    {
      "cell_type": "code",
      "metadata": {
        "id": "h9j-xkAFf4Jp",
        "colab_type": "code",
        "colab": {}
      },
      "source": [
        "import librosa\n",
        "from librosa import display\n",
        "import numpy as np\n",
        "\n",
        "sample_data, sr = librosa.load(\"ESC-50/train/1-100032-A-0.wav\", sr=None)\n",
        "spectrogram = librosa.feature.melspectrogram(sample_data, sr=sr)\n",
        "log_spectrogram = librosa.power_to_db(spectrogram, ref=np.max)"
      ],
      "execution_count": 13,
      "outputs": []
    },
    {
      "cell_type": "code",
      "metadata": {
        "id": "_w2j9SFsjtNA",
        "colab_type": "code",
        "colab": {
          "base_uri": "https://localhost:8080/",
          "height": 296
        },
        "outputId": "c61c8747-db40-41fa-de91-ba4c78d5bcb6"
      },
      "source": [
        "librosa.display.specshow(log_spectrogram, sr=sr, x_axis='time', y_axis='mel')"
      ],
      "execution_count": 14,
      "outputs": [
        {
          "output_type": "execute_result",
          "data": {
            "text/plain": [
              "<matplotlib.axes._subplots.AxesSubplot at 0x7fa9de0330f0>"
            ]
          },
          "metadata": {
            "tags": []
          },
          "execution_count": 14
        },
        {
          "output_type": "display_data",
          "data": {
            "image/png": "[encoded data removed]",
            "text/plain": [
              "<Figure size 432x288 with 1 Axes>"
            ]
          },
          "metadata": {
            "tags": [],
            "needs_background": "light"
          }
        }
      ]
    },
    {
      "cell_type": "code",
      "metadata": {
        "id": "mkcSnr04kSug",
        "colab_type": "code",
        "colab": {}
      },
      "source": [
        "import torchvision\n",
        "import time\n",
        "from torchvision import models, transforms\n",
        "\n",
        "class ESC50Spectrogram(Dataset):\n",
        "\n",
        "  def __init__(self, path, transforms=None):\n",
        "    files = Path(path).glob('*.wav')\n",
        "    self.items = [(f, int(f.name.split(\"-\")[-1].replace(\".wav\", \"\"))) for f in files]\n",
        "    self.length = len(self.items)\n",
        "    self.transforms = transforms\n",
        "\n",
        "  def __getitem__(self, index):\n",
        "    filename, label = self.items[index]\n",
        "    audio_tensor, sample_rate = librosa.load(filename, sr=None)\n",
        "    spectrogram = librosa.feature.melspectrogram(audio_tensor, sr=sample_rate)\n",
        "    log_spectrogram = librosa.power_to_db(spectrogram, ref=np.max)\n",
        "    librosa.display.specshow(log_spectrogram, sr=sample_rate, x_axis='time', y_axis='mel')\n",
        "    fig = plt.gcf()\n",
        "    fig.canvas.draw()\n",
        "    audio_data = np.frombuffer(fig.canvas.tostring_rgb(), dtype=np.uint8)\n",
        "    audio_data = audio_data.reshape(fig.canvas.get_width_height()[::-1] + (3,))\n",
        "    return (self.transforms(audio_data), label)\n",
        "\n",
        "  def __len__(self):\n",
        "    return self.length"
      ],
      "execution_count": 23,
      "outputs": []
    },
    {
      "cell_type": "code",
      "metadata": {
        "id": "BnzdMdAxq7SB",
        "colab_type": "code",
        "colab": {
          "base_uri": "https://localhost:8080/",
          "height": 296
        },
        "outputId": "cefa27fc-edd5-4f10-8574-ec3eef818680"
      },
      "source": [
        "oldESC50 = ESC50(\"ESC-50/train/\") \n",
        "start_time = time.process_time() \n",
        "oldESC50.__getitem__(33) \n",
        "end_time = time.process_time() \n",
        "old_time = end_time - start_time\n",
        "\n",
        "newESC50 = ESC50Spectrogram(\"ESC-50/train/\", transforms.Compose([transforms.ToTensor()])) \n",
        "start_time = time.process_time() \n",
        "newESC50.__getitem__(33)\n",
        "end_time = time.process_time()\n",
        "new_time = end_time - start_time\n",
        "\n",
        "old_time, new_time"
      ],
      "execution_count": 26,
      "outputs": [
        {
          "output_type": "execute_result",
          "data": {
            "text/plain": [
              "(0.002616863999989505, 0.37588689899999395)"
            ]
          },
          "metadata": {
            "tags": []
          },
          "execution_count": 26
        },
        {
          "output_type": "display_data",
          "data": {
            "image/png": "[encoded data removed]",
            "text/plain": [
              "<Figure size 432x288 with 1 Axes>"
            ]
          },
          "metadata": {
            "tags": [],
            "needs_background": "light"
          }
        }
      ]
    },
    {
      "cell_type": "code",
      "metadata": {
        "id": "4Db77Eqdrpcm",
        "colab_type": "code",
        "colab": {}
      },
      "source": [
        "def precompute_spectrograms(path, dpi=50):\n",
        "  files = Path(path).glob('*.wav')\n",
        "  for filename in files:\n",
        "    audio_tensor, sample_rate = librosa.load(filename, sr=None)\n",
        "    spectrogram = librosa.feature.melspectrogram(audio_tensor, sr=sr)\n",
        "    log_spectrogram = librosa.power_to_db(spectrogram, ref=np.max)\n",
        "    librosa.display.specshow(log_spectrogram, sr=sr, x_axis='time', y_axis='mel')\n",
        "    plt.gcf().savefig(\"{}{}_{}.png\".format(filename.parent, dpi, filename.name), dpi=dpi)"
      ],
      "execution_count": 27,
      "outputs": []
    },
    {
      "cell_type": "code",
      "metadata": {
        "id": "Fdv6YSJH0D4S",
        "colab_type": "code",
        "colab": {}
      },
      "source": [
        "precompute_spectrograms(PATH_TO_ESC50/'train')\n",
        "precompute_spectrograms(PATH_TO_ESC50/'test')\n",
        "precompute_spectrograms(PATH_TO_ESC50/'valid')"
      ],
      "execution_count": null,
      "outputs": []
    },
    {
      "cell_type": "code",
      "metadata": {
        "id": "TztWjVkwzAzB",
        "colab_type": "code",
        "colab": {}
      },
      "source": [
        "from PIL import Image\n",
        "\n",
        "class PrecomputedESC50(Dataset):\n",
        "  def __init__(self, path, dpi=50, transforms=None):\n",
        "    files = Path(path).glob('{}*.wav.png'.format(dpi))\n",
        "    self.items = [(f, int(f.name.split(\"-\")[-1].replace(\".wav.png\", \"\"))) for f in files]\n",
        "    self.length = len(self.items)\n",
        "    if transforms == None:\n",
        "      self.transforms = torchvision.transforms.Compose([torchvision.transforms.ToTensor()])\n",
        "    else:\n",
        "      self.transforms = transforms\n",
        "    \n",
        "    def __getitem__(self, index):\n",
        "      filename, label = self.items[index]\n",
        "      img = Image.open(filename)\n",
        "      return (self.transforms(img), label)\n",
        "\n",
        "    def __len__(self):\n",
        "      return self.length"
      ],
      "execution_count": 29,
      "outputs": []
    },
    {
      "cell_type": "code",
      "metadata": {
        "id": "RiuQH4ZBzvSa",
        "colab_type": "code",
        "colab": {}
      },
      "source": [
        "start_time = time.process_time()\n",
        "b.__getitem__(33)\n",
        "end_time = time.process_time()\n",
        "end_time - start_time"
      ],
      "execution_count": null,
      "outputs": []
    },
    {
      "cell_type": "code",
      "metadata": {
        "id": "QTB-d1XR8LWE",
        "colab_type": "code",
        "colab": {}
      },
      "source": [
        "from torchvision import models\n",
        "spec_resnet = models.ResNet50(pretrained=True)\n",
        "\n",
        "for param in spec_resnet.parameters():\n",
        "  param.requires_grad = False\n",
        "\n",
        "spec_resnet.fc = nn.Sequential(nn.Linear(spec_resnet.fc.in_features,500), nn.ReLU(), nn.Dropout(), nn.Linear(500, 50))"
      ],
      "execution_count": null,
      "outputs": []
    },
    {
      "cell_type": "code",
      "metadata": {
        "id": "S2LaYzDU8m3O",
        "colab_type": "code",
        "colab": {}
      },
      "source": [
        "esc50pre_train = PreparedESC50(PATH, transforms=torchvision.transforms.Compose([torchvision.transforms.ToTensor(), \n",
        "                                      torchvision.transforms.Normalize(mean=[0.485, 0.456, 0.406], std=[0.229, 0.224, 0.225])]))\n",
        "\n",
        "esc50pre_valid = PreparedESC50(PATH, transforms=torchvision.transforms.Compose([torchvision.transforms.ToTensor(), \n",
        "                                      torchvision.transforms.Normalize(mean=[0.485, 0.456, 0.406],std=[0.229, 0.224, 0.225])]))\n",
        "\n",
        "esc50_train_loader = (esc50pre_train, bs, shuffle=True)\n",
        "esc50_valid_loader = (esc50pre_valid, bs, shuffle=True)"
      ],
      "execution_count": null,
      "outputs": []
    },
    {
      "cell_type": "code",
      "metadata": {
        "id": "tp37XyXj9f7X",
        "colab_type": "code",
        "colab": {}
      },
      "source": [
        "spec_resnet.save('spec_resnet.pth')\n",
        "loss_fn = nn.CrossEntropyLoss()\n",
        "optimizer = optim.Adam(spec_resnet.parameters(), lr=lr)\n",
        "logs, losses = find_lr(spec_resnet, loss_fn, optimizer)\n",
        "plt.plot(logs, losses)"
      ],
      "execution_count": null,
      "outputs": []
    },
    {
      "cell_type": "code",
      "metadata": {
        "id": "Py4VWbZM9wyS",
        "colab_type": "code",
        "colab": {}
      },
      "source": [
        "optimizer = optim.Adam(spec_resnet.parameters(), lr=[1e-2, 1e-4, 1e-8])\n",
        "train(spec_resnet, optimizer, nn.CrossEntropyLoss(),\n",
        "      esc50_train_loader, esc50_val_loader, epochs=5, device='cuda')"
      ],
      "execution_count": null,
      "outputs": []
    },
    {
      "cell_type": "code",
      "metadata": {
        "id": "3pNBImXX_Yv5",
        "colab_type": "code",
        "colab": {}
      },
      "source": [
        "for param in spec_resnet.parameters():\n",
        "  param.requires_grad = True"
      ],
      "execution_count": null,
      "outputs": []
    },
    {
      "cell_type": "code",
      "metadata": {
        "id": "w2HgzVRV_fQB",
        "colab_type": "code",
        "colab": {}
      },
      "source": [
        "optimizer = optim.Adam(spec_resnet.parameters(), lr=[1e-2, 1e-4, 1e-8])\n",
        "train(spec_resnet, optimizer, nn.CrossEntropyLoss(), esc50_train_loader, esc50_val_loader, epochs=20, device='cuda')"
      ],
      "execution_count": null,
      "outputs": []
    },
    {
      "cell_type": "markdown",
      "metadata": {
        "id": "7ZjhvXBxBhXQ",
        "colab_type": "text"
      },
      "source": [
        "# Audio Augmentation"
      ]
    },
    {
      "cell_type": "code",
      "metadata": {
        "id": "Z4mxb01jBfr3",
        "colab_type": "code",
        "colab": {}
      },
      "source": [
        "audio_tensor, rate = torchaudio.load(\"test.wav\")\n",
        "audio_tensor.shape\n",
        "tripped_tensor = torchaudio.transforms.PadTrim(max_len=1000)(audio_orig)"
      ],
      "execution_count": null,
      "outputs": []
    },
    {
      "cell_type": "markdown",
      "metadata": {
        "id": "RbceV7m5CDAa",
        "colab_type": "text"
      },
      "source": [
        "# **SoX Effect**"
      ]
    },
    {
      "cell_type": "code",
      "metadata": {
        "id": "Qfci-RDDBzYl",
        "colab_type": "code",
        "colab": {}
      },
      "source": [
        "class ESC50WithPitchChange(Dataset):\n",
        "  def __init__(self, path):\n",
        "    files = Path(path).glob('*.wav')\n",
        "    # Iterate through the listing and create a list of tuples (filename, label) \n",
        "    self.items = [(f,f.name.split(\"-\")[-1].replace(\".wav\",\"\")) for f in files]\n",
        "    self.length = len(self.items)\n",
        "    self.E = torchaudio.sox_effects.SoxEffectsChain()\n",
        "    self.E.append_effect_to_chain(\"pitch\", [0.5])\n",
        "  \n",
        "  def __getitem__(self, index):\n",
        "    filename, label = self.items[index]\n",
        "    self.E.set_input_file(filename)\n",
        "    audio_tensor, sample_rate = self.E.sox_build_flow_effects()\n",
        "    return audio_tensor, label\n",
        "\n",
        "  def __len__(self):\n",
        "    return self.length"
      ],
      "execution_count": null,
      "outputs": []
    },
    {
      "cell_type": "code",
      "metadata": {
        "id": "IFFSZ-0WCoG8",
        "colab_type": "code",
        "colab": {}
      },
      "source": [
        "class FrequencyMask(object):\n",
        "  \"\"\"\n",
        "    Example:\n",
        "      >>> transforms.Compose([\n",
        "      >>>   transforms.ToTensor(),\n",
        "      >>>   FrequencyMask(max_width=10, use_mean=False),\n",
        "      >>> ])\n",
        "  \"\"\"\n",
        "\n",
        "  def __init__(self, max_width, use_mean=True):\n",
        "    self.max_width = max_width\n",
        "    self.use_mean = use_mean\n",
        "\n",
        "  def __call__(self, tensor)\n",
        "    \"\"\"\n",
        "    Args:\n",
        "      tensor (Tensor): Tensor image of size (C, H, W) where the frequency mask\n",
        "      is to be applied\n",
        "\n",
        "    Returns:\n",
        "      Tensor: Transformed image with Frequency Mask.\n",
        "    \"\"\"\n",
        "    start = random.randrange(0, tensor.shape[2])\n",
        "    end = start + random.randrange(1, self.max_width)\n",
        "    if self.use_mean:\n",
        "      tensor[:, start:end, :] = tensor.mean()\n",
        "    else:\n",
        "      tensor[:, start:end, :] = 0\n",
        "    return tensor\n",
        "  \n",
        "  def __repr__(self):\n",
        "    format_string = self.__class__.__name__ + \"(max_width=\"\n",
        "    format_string += str(self.max_width) + \")\"\n",
        "    format_string += 'use_mean=' + (str(self.use_mean) + ')')\n",
        "\n",
        "    return format_string"
      ],
      "execution_count": null,
      "outputs": []
    },
    {
      "cell_type": "code",
      "metadata": {
        "id": "23mrDOF_GUb8",
        "colab_type": "code",
        "colab": {}
      },
      "source": [
        "torchvision.transforms.Compose([FrequencyMask(max_width=10, use_mean=False), \n",
        "                                torchvision.transforms.ToPILImage()])(torch.rand(3,250,200))"
      ],
      "execution_count": null,
      "outputs": []
    },
    {
      "cell_type": "code",
      "metadata": {
        "id": "X0kYq3kcGXHu",
        "colab_type": "code",
        "colab": {}
      },
      "source": [
        "class TimeMask(object):\n",
        "  \"\"\"\n",
        "    Example:\n",
        "      >>> transforms.Compose([\n",
        "      >>>   transforms.ToTensor(),\n",
        "      >>>   TimeMask(max_width=10, use_mean=False),\n",
        "      >>> ])\n",
        "  \"\"\"\n",
        "\n",
        "  def __init__(self, max_width, use_mean=True):\n",
        "    self.max_width = max_width\n",
        "    self.use_mean = use_mean\n",
        "\n",
        "  def __call__(self, tensor)\n",
        "    \"\"\"\n",
        "    Args:\n",
        "      tensor (Tensor): Tensor image of size (C, H, W) where the time mask\n",
        "      is to be applied\n",
        "\n",
        "    Returns:\n",
        "      Tensor: Transformed image with Frequency Mask.\n",
        "    \"\"\"\n",
        "    start = random.randrange(0, tensor.shape[1])\n",
        "    end = start + random.randrange(1, self.max_width)\n",
        "    if self.use_mean:\n",
        "      tensor[:, :, start:end] = tensor.mean()\n",
        "    else:\n",
        "      tensor[:, :, start:end] = 0\n",
        "    return tensor\n",
        "  \n",
        "  def __repr__(self):\n",
        "    format_string = self.__class__.__name__ + \"(max_width=\"\n",
        "    format_string += str(self.max_width) + \")\"\n",
        "    format_string += 'use_mean=' + (str(self.use_mean) + ')')\n",
        "\n",
        "    return format_string"
      ],
      "execution_count": null,
      "outputs": []
    },
    {
      "cell_type": "code",
      "metadata": {
        "id": "WQAuV3JoIgd7",
        "colab_type": "code",
        "colab": {}
      },
      "source": [
        "torchvision.transforms.Compose([TimeMask(max_width=10, use_mean=False), \n",
        "                                torchvision.transforms.ToPILImage()])(torch.rand(3,250,200))"
      ],
      "execution_count": null,
      "outputs": []
    },
    {
      "cell_type": "code",
      "metadata": {
        "id": "oyK7QKojIvq0",
        "colab_type": "code",
        "colab": {}
      },
      "source": [
        "class PrecomputedTransformESC50(Dataset):\n",
        "  def __init__(self,path,dpi=50):\n",
        "    files = Path(path).glob('{}*.wav.png'.format(dpi))\n",
        "    self.items = [(f, f.name.split(\"-\")[-1].replace(\".wav.png\", \"\")) for f in files]\n",
        "    self.length = len(self.items)\n",
        "    self.transforms = transforms.Compose([\n",
        "                                          transforms.ToTensor(),\n",
        "                                          RandomApply([FrequencyMask(self.max_freqmask_width)]p=0.5),\n",
        "                                          RandomApply([TimeMask(self.max_timemask_width)]p=0.5)\n",
        "    ])\n",
        "  def __getitem__(self, index):\n",
        "    filename, label = self.items[index]\n",
        "    img = Image.open(filename)\n",
        "    return (self.transforms(img), label)\n",
        "\n",
        "  def __len__(self):\n",
        "    return self.length"
      ],
      "execution_count": null,
      "outputs": []
    },
    {
      "cell_type": "code",
      "metadata": {
        "id": "W8S2sVlUJWJm",
        "colab_type": "code",
        "colab": {}
      },
      "source": [
        ""
      ],
      "execution_count": null,
      "outputs": []
    }
  ]
}