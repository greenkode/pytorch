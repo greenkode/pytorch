{
  "nbformat": 4,
  "nbformat_minor": 0,
  "metadata": {
    "colab": {
      "name": "Chapter 5.ipynb",
      "provenance": [],
      "authorship_tag": "ABX9TyPpBSJvfwbz7uGjOV7Mf3eC",
      "include_colab_link": true
    },
    "kernelspec": {
      "name": "python3",
      "display_name": "Python 3"
    },
    "accelerator": "GPU"
  },
  "cells": [
    {
      "cell_type": "markdown",
      "metadata": {
        "id": "view-in-github",
        "colab_type": "text"
      },
      "source": [
        "<a href=\"https://colab.research.google.com/github/greenkode/pytorch/blob/master/Chapter_5.ipynb\" target=\"_parent\"><img src=\"https://colab.research.google.com/assets/colab-badge.svg\" alt=\"Open In Colab\"/></a>"
      ]
    },
    {
      "cell_type": "code",
      "metadata": {
        "id": "mel41XNnSHp5",
        "colab_type": "code",
        "colab": {}
      },
      "source": [
        "import torch \n",
        "import torch.nn as nn\n",
        "import torch.nn.functional as F\n",
        "import torch.optim as optim\n",
        "import numpy as np\n",
        "from torchtext import data \n",
        "import torchtext\n",
        "from pathlib import Path\n",
        "import pandas as pd\n",
        "import spacy"
      ],
      "execution_count": 43,
      "outputs": []
    },
    {
      "cell_type": "code",
      "metadata": {
        "id": "eHlk6EDdUsY0",
        "colab_type": "code",
        "colab": {
          "base_uri": "https://localhost:8080/",
          "height": 330
        },
        "outputId": "4489a010-efd1-4ee1-e0ae-7318c29ed9b3"
      },
      "source": [
        "!wget http://cs.stanford.edu/people/alecmgo/trainingandtestdata.zip\n",
        "!unzip trainingandtestdata.zip\n",
        "!rm trainingandtestdata.zip"
      ],
      "execution_count": 3,
      "outputs": [
        {
          "output_type": "stream",
          "text": [
            "--2020-09-06 12:10:28--  http://cs.stanford.edu/people/alecmgo/trainingandtestdata.zip\n",
            "Resolving cs.stanford.edu (cs.stanford.edu)... 171.64.64.64\n",
            "Connecting to cs.stanford.edu (cs.stanford.edu)|171.64.64.64|:80... connected.\n",
            "HTTP request sent, awaiting response... 301 Moved Permanently\n",
            "Location: https://cs.stanford.edu/people/alecmgo/trainingandtestdata.zip [following]\n",
            "--2020-09-06 12:10:28--  https://cs.stanford.edu/people/alecmgo/trainingandtestdata.zip\n",
            "Connecting to cs.stanford.edu (cs.stanford.edu)|171.64.64.64|:443... connected.\n",
            "HTTP request sent, awaiting response... 200 OK\n",
            "Length: 81363704 (78M) [application/zip]\n",
            "Saving to: ‘trainingandtestdata.zip’\n",
            "\n",
            "trainingandtestdata 100%[===================>]  77.59M  79.4MB/s    in 1.0s    \n",
            "\n",
            "2020-09-06 12:10:29 (79.4 MB/s) - ‘trainingandtestdata.zip’ saved [81363704/81363704]\n",
            "\n",
            "Archive:  trainingandtestdata.zip\n",
            "  inflating: testdata.manual.2009.06.14.csv  \n",
            "  inflating: training.1600000.processed.noemoticon.csv  \n"
          ],
          "name": "stdout"
        }
      ]
    },
    {
      "cell_type": "code",
      "metadata": {
        "id": "7QOF8K0ESlc2",
        "colab_type": "code",
        "colab": {}
      },
      "source": [
        "tweetsDF = pd.read_csv('training.1600000.processed.noemoticon.csv', header=None, engine='python')"
      ],
      "execution_count": 5,
      "outputs": []
    },
    {
      "cell_type": "code",
      "metadata": {
        "id": "0YGNzdq9SuCp",
        "colab_type": "code",
        "colab": {
          "base_uri": "https://localhost:8080/",
          "height": 206
        },
        "outputId": "11fe71a0-82c8-42dd-d843-8fe2b9569043"
      },
      "source": [
        "tweetsDF.head()"
      ],
      "execution_count": 6,
      "outputs": [
        {
          "output_type": "execute_result",
          "data": {
            "text/html": [
              "<div>\n",
              "<style scoped>\n",
              "    .dataframe tbody tr th:only-of-type {\n",
              "        vertical-align: middle;\n",
              "    }\n",
              "\n",
              "    .dataframe tbody tr th {\n",
              "        vertical-align: top;\n",
              "    }\n",
              "\n",
              "    .dataframe thead th {\n",
              "        text-align: right;\n",
              "    }\n",
              "</style>\n",
              "<table border=\"1\" class=\"dataframe\">\n",
              "  <thead>\n",
              "    <tr style=\"text-align: right;\">\n",
              "      <th></th>\n",
              "      <th>0</th>\n",
              "      <th>1</th>\n",
              "      <th>2</th>\n",
              "      <th>3</th>\n",
              "      <th>4</th>\n",
              "      <th>5</th>\n",
              "    </tr>\n",
              "  </thead>\n",
              "  <tbody>\n",
              "    <tr>\n",
              "      <th>0</th>\n",
              "      <td>0</td>\n",
              "      <td>1467810369</td>\n",
              "      <td>Mon Apr 06 22:19:45 PDT 2009</td>\n",
              "      <td>NO_QUERY</td>\n",
              "      <td>_TheSpecialOne_</td>\n",
              "      <td>@switchfoot http://twitpic.com/2y1zl - Awww, t...</td>\n",
              "    </tr>\n",
              "    <tr>\n",
              "      <th>1</th>\n",
              "      <td>0</td>\n",
              "      <td>1467810672</td>\n",
              "      <td>Mon Apr 06 22:19:49 PDT 2009</td>\n",
              "      <td>NO_QUERY</td>\n",
              "      <td>scotthamilton</td>\n",
              "      <td>is upset that he can't update his Facebook by ...</td>\n",
              "    </tr>\n",
              "    <tr>\n",
              "      <th>2</th>\n",
              "      <td>0</td>\n",
              "      <td>1467810917</td>\n",
              "      <td>Mon Apr 06 22:19:53 PDT 2009</td>\n",
              "      <td>NO_QUERY</td>\n",
              "      <td>mattycus</td>\n",
              "      <td>@Kenichan I dived many times for the ball. Man...</td>\n",
              "    </tr>\n",
              "    <tr>\n",
              "      <th>3</th>\n",
              "      <td>0</td>\n",
              "      <td>1467811184</td>\n",
              "      <td>Mon Apr 06 22:19:57 PDT 2009</td>\n",
              "      <td>NO_QUERY</td>\n",
              "      <td>ElleCTF</td>\n",
              "      <td>my whole body feels itchy and like its on fire</td>\n",
              "    </tr>\n",
              "    <tr>\n",
              "      <th>4</th>\n",
              "      <td>0</td>\n",
              "      <td>1467811193</td>\n",
              "      <td>Mon Apr 06 22:19:57 PDT 2009</td>\n",
              "      <td>NO_QUERY</td>\n",
              "      <td>Karoli</td>\n",
              "      <td>@nationwideclass no, it's not behaving at all....</td>\n",
              "    </tr>\n",
              "  </tbody>\n",
              "</table>\n",
              "</div>"
            ],
            "text/plain": [
              "   0  ...                                                  5\n",
              "0  0  ...  @switchfoot http://twitpic.com/2y1zl - Awww, t...\n",
              "1  0  ...  is upset that he can't update his Facebook by ...\n",
              "2  0  ...  @Kenichan I dived many times for the ball. Man...\n",
              "3  0  ...    my whole body feels itchy and like its on fire \n",
              "4  0  ...  @nationwideclass no, it's not behaving at all....\n",
              "\n",
              "[5 rows x 6 columns]"
            ]
          },
          "metadata": {
            "tags": []
          },
          "execution_count": 6
        }
      ]
    },
    {
      "cell_type": "code",
      "metadata": {
        "id": "unXjIuFsU8e5",
        "colab_type": "code",
        "colab": {}
      },
      "source": [
        "tweetsDF[\"sentiment_cat\"] = tweetsDF[0].astype('category')"
      ],
      "execution_count": 7,
      "outputs": []
    },
    {
      "cell_type": "code",
      "metadata": {
        "id": "QrrFXs_UVNuJ",
        "colab_type": "code",
        "colab": {}
      },
      "source": [
        "tweetsDF['sentiment'] = tweetsDF['sentiment_cat'].cat.codes"
      ],
      "execution_count": 8,
      "outputs": []
    },
    {
      "cell_type": "code",
      "metadata": {
        "id": "CUsxntFjVSJb",
        "colab_type": "code",
        "colab": {}
      },
      "source": [
        "tweetsDF.to_csv('train-processed.csv', header=None, index=None)"
      ],
      "execution_count": 9,
      "outputs": []
    },
    {
      "cell_type": "code",
      "metadata": {
        "id": "GAn4k2FSVZCh",
        "colab_type": "code",
        "colab": {}
      },
      "source": [
        "tweetsDF.sample(10000).to_csv('train-processed-sample.csv',header=None, index=None)"
      ],
      "execution_count": 10,
      "outputs": []
    },
    {
      "cell_type": "code",
      "metadata": {
        "id": "WaztmgnmVhew",
        "colab_type": "code",
        "colab": {}
      },
      "source": [
        "LABEL = data.LabelField()\n",
        "TWEET = data.Field(tokenize='spacy', lower=True)"
      ],
      "execution_count": 47,
      "outputs": []
    },
    {
      "cell_type": "code",
      "metadata": {
        "id": "DGBvnfFrWyJ-",
        "colab_type": "code",
        "colab": {}
      },
      "source": [
        "fields = [('score', None), \n",
        "          ('id', None), \n",
        "          ('date', None), \n",
        "          ('query', None), \n",
        "          ('name', None), \n",
        "          ('tweet', TWEET), \n",
        "          ('category', None), \n",
        "          ('label', LABEL)]"
      ],
      "execution_count": 48,
      "outputs": []
    },
    {
      "cell_type": "code",
      "metadata": {
        "id": "6n1-leG7Xlez",
        "colab_type": "code",
        "colab": {}
      },
      "source": [
        "twitterDataset = torchtext.data.TabularDataset(path='train-processed-sample.csv', format='csv', fields=fields, skip_header=False)"
      ],
      "execution_count": 49,
      "outputs": []
    },
    {
      "cell_type": "code",
      "metadata": {
        "id": "YZSWNa5VX_yH",
        "colab_type": "code",
        "colab": {}
      },
      "source": [
        "(train, test, valid) = twitterDataset.split(split_ratio=[0.8, 0.1, 0.1])"
      ],
      "execution_count": 73,
      "outputs": []
    },
    {
      "cell_type": "code",
      "metadata": {
        "id": "aXA45Q19YnJN",
        "colab_type": "code",
        "colab": {
          "base_uri": "https://localhost:8080/",
          "height": 521
        },
        "outputId": "e88fab41-7e9e-466d-8c26-1327fdb4c5c6"
      },
      "source": [
        "vars(train.examples[7])"
      ],
      "execution_count": 74,
      "outputs": [
        {
          "output_type": "execute_result",
          "data": {
            "text/plain": [
              "{'label': '1',\n",
              " 'tweet': ['@jcinqc',\n",
              "  'lol',\n",
              "  'what',\n",
              "  'is',\n",
              "  'a',\n",
              "  'kaffeklatch',\n",
              "  '?',\n",
              "  'i',\n",
              "  'have',\n",
              "  'been',\n",
              "  'friends',\n",
              "  'with',\n",
              "  'kelly',\n",
              "  'for',\n",
              "  'a',\n",
              "  'while',\n",
              "  ',',\n",
              "  'she',\n",
              "  'is',\n",
              "  'good',\n",
              "  'people',\n",
              "  '  ',\n",
              "  'she',\n",
              "  'is',\n",
              "  'just',\n",
              "  'on',\n",
              "  'fb',\n",
              "  'more']}"
            ]
          },
          "metadata": {
            "tags": []
          },
          "execution_count": 74
        }
      ]
    },
    {
      "cell_type": "code",
      "metadata": {
        "id": "6SjhIxhKZSSN",
        "colab_type": "code",
        "colab": {}
      },
      "source": [
        "device = 'cuda'\n",
        "vocab_size = 16654\n",
        "TWEET.build_vocab(train, max_size=vocab_size)\n",
        "LABEL.build_vocab(train)\n",
        "\n",
        "train_iterator, valid_iterator, test_iterator = data.BucketIterator.splits((train, valid, test), batch_size=32, device=device,\n",
        "                                                                           sort_key = lambda x: len(x.tweet), sort_within_batch=False)"
      ],
      "execution_count": 75,
      "outputs": []
    },
    {
      "cell_type": "code",
      "metadata": {
        "id": "WqK5a8_KZPkD",
        "colab_type": "code",
        "colab": {
          "base_uri": "https://localhost:8080/",
          "height": 191
        },
        "outputId": "5a5425ab-62c2-4c4c-9512-c924f69c0aef"
      },
      "source": [
        "len(TWEET.vocab)\n",
        "TWEET.vocab.freqs.most_common(10)"
      ],
      "execution_count": 76,
      "outputs": [
        {
          "output_type": "execute_result",
          "data": {
            "text/plain": [
              "[('i', 5012),\n",
              " ('!', 4656),\n",
              " ('.', 4105),\n",
              " (' ', 2984),\n",
              " ('to', 2819),\n",
              " ('the', 2629),\n",
              " (',', 2378),\n",
              " ('a', 1814),\n",
              " ('my', 1634),\n",
              " ('you', 1509)]"
            ]
          },
          "metadata": {
            "tags": []
          },
          "execution_count": 76
        }
      ]
    },
    {
      "cell_type": "code",
      "metadata": {
        "id": "4ceoV5gJZ-bm",
        "colab_type": "code",
        "colab": {
          "base_uri": "https://localhost:8080/",
          "height": 104
        },
        "outputId": "cae77549-cf0f-4fe1-c162-73adbfa1765e"
      },
      "source": [
        "class OurFirstLSTM(nn.Module):\n",
        "  def __init__(self, hidden_size, embedding_dim, vocab_size):\n",
        "    super(OurFirstLSTM, self).__init__()\n",
        "\n",
        "    self.embedding = nn.Embedding(vocab_size, embedding_dim)\n",
        "    self.encoder = nn.LSTM(input_size=embedding_dim, hidden_size=hidden_size, num_layers=1)\n",
        "    self.predictor = nn.Linear(hidden_size, 2)\n",
        "\n",
        "  def forward(self, seq):\n",
        "    output, (hidden,_) = self.encoder(self.embedding(seq))\n",
        "    preds = self.predictor(hidden.squeeze(0))\n",
        "    return preds\n",
        "\n",
        "model = OurFirstLSTM(100, 300, 16654)\n",
        "model.to(device)"
      ],
      "execution_count": 77,
      "outputs": [
        {
          "output_type": "execute_result",
          "data": {
            "text/plain": [
              "OurFirstLSTM(\n",
              "  (embedding): Embedding(16654, 300)\n",
              "  (encoder): LSTM(300, 100)\n",
              "  (predictor): Linear(in_features=100, out_features=2, bias=True)\n",
              ")"
            ]
          },
          "metadata": {
            "tags": []
          },
          "execution_count": 77
        }
      ]
    },
    {
      "cell_type": "code",
      "metadata": {
        "id": "ZfPElyvSbK26",
        "colab_type": "code",
        "colab": {}
      },
      "source": [
        "optimizer = optim.Adam(model.parameters(), lr=2e-2)\n",
        "criterion = nn.CrossEntropyLoss()\n",
        "\n",
        "def train(epochs, model, optimizer, criterion, train_iterator, valid_iterator):\n",
        "  for epoch in range(1, epochs + 1):\n",
        "\n",
        "    training_loss = 0.0\n",
        "    valid_loss = 0.0\n",
        "    model.train()\n",
        "\n",
        "    for batch_idx, batch in enumerate(train_iterator):\n",
        "      optimizer.zero_grad()\n",
        "      predict = model(batch.tweet)\n",
        "      loss = criterion(predict, batch.label)\n",
        "      loss.backward()\n",
        "      optimizer.step()\n",
        "      training_loss += loss.data.item() * batch.tweet.size(0)\n",
        "    training_loss /= len(train_iterator)\n",
        "\n",
        "    model.eval()\n",
        "    for batch_idx, batch in enumerate(valid_iterator):\n",
        "      predict = model(batch.tweet)\n",
        "      loss = criterion(predict, batch.label)\n",
        "      valid_loss += loss.data.item() * batch.tweet.size(0)\n",
        "    valid_loss /= len(valid_iterator)\n",
        "    print('Epoch: {}, Training Loss: {:.2f}, Validation Loss: {:.2f}'.format(epoch, training_loss, valid_loss))"
      ],
      "execution_count": 78,
      "outputs": []
    },
    {
      "cell_type": "code",
      "metadata": {
        "id": "tT45uAsPeV5F",
        "colab_type": "code",
        "colab": {
          "base_uri": "https://localhost:8080/",
          "height": 104
        },
        "outputId": "861d07b4-e725-49f6-87ae-019c314651ed"
      },
      "source": [
        "train(5, model, optimizer, criterion, train_iterator, valid_iterator)"
      ],
      "execution_count": 79,
      "outputs": [
        {
          "output_type": "stream",
          "text": [
            "Epoch: 1, Training Loss: 25.22, Validation Loss: 13.34\n",
            "Epoch: 2, Training Loss: 22.83, Validation Loss: 13.06\n",
            "Epoch: 3, Training Loss: 20.72, Validation Loss: 14.58\n",
            "Epoch: 4, Training Loss: 19.32, Validation Loss: 15.03\n",
            "Epoch: 5, Training Loss: 18.38, Validation Loss: 15.05\n"
          ],
          "name": "stdout"
        }
      ]
    },
    {
      "cell_type": "code",
      "metadata": {
        "id": "Wi4oLiUNfGwH",
        "colab_type": "code",
        "colab": {}
      },
      "source": [
        "def classify_tweet(tweet):\n",
        "  categories = {0: 'Negative', 1: 'Positive'}\n",
        "  processed = TWEET.process([TWEET.preprocess(tweet)])\n",
        "  processed = processed.to(device)\n",
        "  return categories[model(processed).argmax().item()]"
      ],
      "execution_count": 84,
      "outputs": []
    },
    {
      "cell_type": "code",
      "metadata": {
        "id": "wiPN4hdDiSPO",
        "colab_type": "code",
        "colab": {
          "base_uri": "https://localhost:8080/",
          "height": 36
        },
        "outputId": "b24e305e-d35f-4bf7-ed00-eb8dc5b466c1"
      },
      "source": [
        "classify_tweet('Reading my kindle2... Love it... Lee childs is good read.')"
      ],
      "execution_count": 85,
      "outputs": [
        {
          "output_type": "execute_result",
          "data": {
            "application/vnd.google.colaboratory.intrinsic+json": {
              "type": "string"
            },
            "text/plain": [
              "'Negative'"
            ]
          },
          "metadata": {
            "tags": []
          },
          "execution_count": 85
        }
      ]
    },
    {
      "cell_type": "code",
      "metadata": {
        "id": "BITaiS5KkvCT",
        "colab_type": "code",
        "colab": {
          "base_uri": "https://localhost:8080/",
          "height": 52
        },
        "outputId": "b69ba4ea-01ea-46a4-bcd2-68b1c281d2f5"
      },
      "source": [
        "from spacy.lang.en import English\n",
        "from spacy.lang.en.stop_words import STOP_WORDS\n",
        "import random\n",
        "import nltk\n",
        "from nltk.corpus import wordnet\n",
        "\n",
        "nltk.download('wordnet')\n",
        "nlp = English()\n",
        "\n",
        "def remove_stopwords(sentence):\n",
        "  doc = nlp(sentence)\n",
        "  token_list = []\n",
        "  for token in doc:\n",
        "    token_list.append(token.text)\n",
        "\n",
        "    filtered_sentence = []\n",
        "\n",
        "    for word in token_list:\n",
        "      lexeme = nlp.vocab[word]\n",
        "      if lexeme.is_stop == False:\n",
        "        filtered_sentence.append(word)\n",
        "  return \" \".join(filtered_sentence)\n",
        "\n",
        "def get_synonyms(word):\n",
        "  synonyms = wordnet.synsets(word)\n",
        "  return word if len(synonyms) == 0 else synonyms[0]"
      ],
      "execution_count": 137,
      "outputs": [
        {
          "output_type": "stream",
          "text": [
            "[nltk_data] Downloading package wordnet to /root/nltk_data...\n",
            "[nltk_data]   Package wordnet is already up-to-date!\n"
          ],
          "name": "stdout"
        }
      ]
    },
    {
      "cell_type": "code",
      "metadata": {
        "id": "ox2Dend8ipVe",
        "colab_type": "code",
        "colab": {}
      },
      "source": [
        "def random_insertion(sentence, n):\n",
        "  words = remove_stopwords(sentence)\n",
        "  print(words)\n",
        "  for _ in range(n):\n",
        "    new_synonym = get_synonyms(random.choice(words))\n",
        "    sentence.insert(randrange(len(sentence)+1), new_synonym)\n",
        "  return sentence"
      ],
      "execution_count": 138,
      "outputs": []
    },
    {
      "cell_type": "code",
      "metadata": {
        "id": "_6ksKHAFp5GH",
        "colab_type": "code",
        "colab": {}
      },
      "source": [
        "def random_swap(sentence, n=5):\n",
        "    length = range(len(sentence))\n",
        "    for _ in range(n):\n",
        "        idx1, idx2 = random.sample(length, 2)\n",
        "        sentence[idx1], sentence[idx2] = sentence[idx2], sentence[idx1]\n",
        "    return sentence"
      ],
      "execution_count": 140,
      "outputs": []
    },
    {
      "cell_type": "code",
      "metadata": {
        "id": "SN5dRjDOrmSN",
        "colab_type": "code",
        "colab": {}
      },
      "source": [
        "def random_insertion(sentence,n):\n",
        "    words = remove_stopwords(sentence)\n",
        "    for _ in range(n):\n",
        "        new_synonym = get_synonyms(random.choice(words))\n",
        "        sentence.insert(randrange(len(sentence)+1), new_synonym)\n",
        "    return sentence"
      ],
      "execution_count": 141,
      "outputs": []
    },
    {
      "cell_type": "code",
      "metadata": {
        "id": "d0s1_GF8sJDq",
        "colab_type": "code",
        "colab": {}
      },
      "source": [
        "# !pip install googletrans"
      ],
      "execution_count": null,
      "outputs": []
    },
    {
      "cell_type": "code",
      "metadata": {
        "id": "hc8bsp70rqCu",
        "colab_type": "code",
        "colab": {
          "base_uri": "https://localhost:8080/",
          "height": 34
        },
        "outputId": "5dce4439-9323-4756-dd6f-825e93fb1d61"
      },
      "source": [
        "import googletrans\n",
        "\n",
        "translator = googletrans.Translator()\n",
        "sentences = ['The cat sat on the mat']\n",
        "\n",
        "translations_fr = translator.translate(sentences, dest='fr')\n",
        "fr_text = [t.text for t in translations_fr]\n",
        "translations_en = translator.translate(fr_text, dest='en')\n",
        "en_text = [t.text for t in translations_en]\n",
        "print(en_text)"
      ],
      "execution_count": 147,
      "outputs": [
        {
          "output_type": "stream",
          "text": [
            "['The cat sat on the carpet']\n"
          ],
          "name": "stdout"
        }
      ]
    },
    {
      "cell_type": "code",
      "metadata": {
        "id": "9acyhfYusFyz",
        "colab_type": "code",
        "colab": {
          "base_uri": "https://localhost:8080/",
          "height": 278
        },
        "outputId": "c3dc387e-da52-437a-a531-5aa3cb977780"
      },
      "source": [
        "for i in range(5):\n",
        "  available_langs = list(googletrans.LANGUAGES.keys())\n",
        "  tr_lang = random.choice(available_langs)\n",
        "  print(f\"Translating to {googletrans.LANGUAGES[tr_lang]}\")\n",
        "\n",
        "  translations = translator.translate(sentences, dest=tr_lang)\n",
        "  t_text = [t.text for t in translations]\n",
        "  print(t_text)\n",
        "\n",
        "  translations_en_random = translator.translate(t_text, src=tr_lang, dest='en')\n",
        "  en_text = [t.text for t in translations_en_random]\n",
        "  print(en_text)"
      ],
      "execution_count": 149,
      "outputs": [
        {
          "output_type": "stream",
          "text": [
            "Translating to thai\n",
            "['แมวนั่งอยู่บนเสื่อ']\n",
            "['A cat sitting on a mat']\n",
            "Translating to hungarian\n",
            "['A macska leült a szőnyegre']\n",
            "['The cat sat down on the carpet']\n",
            "Translating to igbo\n",
            "['Pusi nọdụrụ n’ute']\n",
            "['The cat sat on the mat']\n",
            "Translating to slovenian\n",
            "['Mačka je sedela na preprogi']\n",
            "['The cat was sitting on the carpet']\n",
            "Translating to esperanto\n",
            "['La kato sidis sur la mato']\n",
            "['The cat was sitting on the mat']\n"
          ],
          "name": "stdout"
        }
      ]
    },
    {
      "cell_type": "code",
      "metadata": {
        "id": "2IyTryXRs3V-",
        "colab_type": "code",
        "colab": {}
      },
      "source": [
        ""
      ],
      "execution_count": null,
      "outputs": []
    }
  ]
}